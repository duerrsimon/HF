{
 "cells": [
  {
   "cell_type": "markdown",
   "metadata": {
    "slideshow": {
     "slide_type": "slide"
    }
   },
   "source": [
    "# HF STO-3G calculation for HeH+\n",
    "\n"
   ]
  },
  {
   "cell_type": "markdown",
   "metadata": {
    "slideshow": {
     "slide_type": "fragment"
    }
   },
   "source": [
    "From the book **Modern Quantum Chemistry** by Szabo and Ostlund\n",
    "\n",
    "A simple HF calculation on $\\text{HeH}^+$, which is not symmetric and has charge +2\n"
   ]
  },
  {
   "cell_type": "code",
   "execution_count": 1,
   "metadata": {
    "slideshow": {
     "slide_type": "slide"
    }
   },
   "outputs": [],
   "source": [
    "import numpy as np\n",
    "import scipy.special as sp\n",
    "import sympy as sy\n",
    "import matplotlib.pyplot as plt\n",
    "import pprint"
   ]
  },
  {
   "cell_type": "markdown",
   "metadata": {
    "slideshow": {
     "slide_type": "slide"
    }
   },
   "source": [
    "## Molecular Schroedinger equation\n",
    "\n",
    "We begin with the time-independent Schrodinger equation for a molecule is\n",
    "\n",
    "$H\\Psi = E\\Psi$\n",
    "\n",
    "$\\left[ -\\sum_i \\frac{\\nabla_i^{2}}{2} -\\sum_A \\frac{\\nabla_A^{2}}{2} - \\sum_{A,i}\\frac{Z_{A}}{r_{Ai}}+\\sum_{A>B}\\frac{Z_A Z_B}{R_{AB}}+\\sum_{i>j}\\frac{1}{r_{ij}}\\right]\\Psi(\\boldsymbol{r};\\boldsymbol{R})=E\\Psi(\\boldsymbol{r};\\boldsymbol{R})$"
   ]
  },
  {
   "cell_type": "markdown",
   "metadata": {
    "slideshow": {
     "slide_type": "slide"
    }
   },
   "source": [
    "Now some theory"
   ]
  },
  {
   "cell_type": "markdown",
   "metadata": {
    "slideshow": {
     "slide_type": "subslide"
    }
   },
   "source": [
    "## Molecular Schroedinger equation\n",
    "\n",
    "We begin with the time-independent Schrodinger equation for a molecule is\n",
    "\n",
    "$$H\\Psi = E\\Psi$$\n",
    "\n",
    "We have seen this already in class:\n",
    "\n",
    "$$\\left[ -\\sum_i \\frac{\\nabla_i^{2}}{2} -\\sum_A \\frac{\\nabla_A^{2}}{2} - \\sum_{A,i}\\frac{Z_{A}}{r_{Ai}}+\\sum_{A>B}\\frac{Z_A Z_B}{R_{AB}}+\\sum_{i>j}\\frac{1}{r_{ij}}\\right]\\Psi(\\boldsymbol{r};\\boldsymbol{R})=E\\Psi(\\boldsymbol{r};\\boldsymbol{R})$$\n",
    "\n",
    "This equation in more compact form is:\n",
    "\n",
    "$$\\left[\\hat{T}_e(\\boldsymbol{r}) +\\hat{T}_N(\\boldsymbol{R}) +\\hat{V} _{eN}(\\boldsymbol{r};\\boldsymbol{R})+\\hat{V}_{NN}(\\boldsymbol{R})+\\hat{V}_{ee}(\\boldsymbol{r})\\right]\\Psi(\\boldsymbol{r};\\boldsymbol{R})=E\\Psi(\\boldsymbol{r};\\boldsymbol{R})$$\n",
    "\n",
    "\n",
    "The sums  $\\sum$  have electron $i,j$  and nuclei $A,B$ indices. With the electron positions $\\boldsymbol{r}$ and nuclei position $\\boldsymbol{R}$ being used to calculate distances between nuclei-electrons $r_{Ai}$, nuclei-nuclei $r_{AB}$ and electron-electron $r_{ij}$. Atomic charges are needed $Z_{A/B}$ in our case $Z_{He}=+2$ and $Z_{H}=+1$."
   ]
  },
  {
   "cell_type": "markdown",
   "metadata": {
    "slideshow": {
     "slide_type": "slide"
    }
   },
   "source": [
    "### Reminder about the terms\n",
    "\n",
    "$$\\left[\\hat{T}_e(\\boldsymbol{r}) +\\hat{T}_N(\\boldsymbol{R}) +\\hat{V} _{eN}(\\boldsymbol{r};\\boldsymbol{R})+\\hat{V}_{NN}(\\boldsymbol{R})+\\hat{V}_{ee}(\\boldsymbol{r})\\right]\\Psi(\\boldsymbol{r};\\boldsymbol{R})=E\\Psi(\\boldsymbol{r};\\boldsymbol{R})$$\n"
   ]
  },
  {
   "cell_type": "markdown",
   "metadata": {},
   "source": [
    "Sum of each electron's kinetic energy\n",
    "\n",
    "$\\hat{T}_e(\\boldsymbol{r})=-\\sum_i \\frac{\\nabla_i^{2}}{2}$"
   ]
  },
  {
   "cell_type": "markdown",
   "metadata": {},
   "source": [
    "Sum of each nuclei's kinetic energy\n",
    "\n",
    "$\\hat{T}_N(\\boldsymbol{R})=-\\sum_A \\frac{\\nabla_A^{2}}{2}$"
   ]
  },
  {
   "cell_type": "markdown",
   "metadata": {},
   "source": [
    "Sum of energy from nuclei-electron attraction\n",
    "\n",
    "$\\hat{V} _{eN}(\\boldsymbol{r};\\boldsymbol{R})= - \\sum_{A,i}\\frac{Z_{A}}{r_{Ai}}$\n"
   ]
  },
  {
   "cell_type": "markdown",
   "metadata": {},
   "source": [
    "Sum of energy from nuclei-nuclei repulsion\n",
    "\n",
    "$\\hat{V}_{NN}(\\boldsymbol{R})=+\\sum_{A>B}\\frac{Z_A Z_B}{R_{AB}}$"
   ]
  },
  {
   "cell_type": "markdown",
   "metadata": {},
   "source": [
    "Sum of electron-electron repulsion\n",
    "$\\hat{V}_{ee}(\\boldsymbol{r})=+\\sum_{i>j}\\frac{1}{r_{ij}}$"
   ]
  },
  {
   "cell_type": "markdown",
   "metadata": {},
   "source": [
    "Most often, however, we only consider the electronic problem for a given set of nuclear positions $\\boldsymbol{R$} as the electrons are significantly lighter and therefore can be considered to instantanously adjust for any nuclear position. (However, the energy here does not include the nuclear repulsions which need to be added at the end to get the total energy.)\n",
    "\n",
    "$$\\left[ \\hat{T}_e(\\boldsymbol{r})+ \\hat{V} _{eN}(\\boldsymbol{r};\\boldsymbol{R})+\\hat{V}_{ee}(\\boldsymbol{r})\\right]\\Psi(\\boldsymbol{r})=E_{el}\\Psi(\\boldsymbol{r})\n",
    "$$"
   ]
  },
  {
   "cell_type": "markdown",
   "metadata": {},
   "source": [
    "One of the challenges in solving this equation is that you do not know where the electron resides only where it is statisically likely to be if you took a measurement - called the many-body effect. This makes the terms involving the electron repulsions ($+\\sum_{i>j}\\frac{1}{r_{ij}}$) difficult to calculate.\n",
    "\n",
    "In the Hartree-Fock approach the first approximation used is to treat each electron separately interacting with an averaged distribution of the other electrons (mean field approach).\n",
    "\n",
    "$$\\left[ -\\sum_i \\frac{\\nabla_i^{2}}{2}- \\sum_{A,i}\\frac{Z_{A}}{r_{Ai}}+v_{HF}(i)\\right]\\Psi(\\boldsymbol{r})=\\epsilon_{ij}\\Psi(\\boldsymbol{r})$$\n",
    "\n",
    "The functions chosen to represent each electron is based on the hydrogen atomic solutions, which are exact, for an electron around an atom of hydrogen the atomic orbitals.\n",
    "\n",
    "So we consider a product of one-electron wavefunctions $\\psi_i(\\boldsymbol{r})$ interacting with a mean field of all the other electrons.\n",
    "\n",
    "$$\\Psi(\\boldsymbol{r}) = \\psi_1(\\boldsymbol{r}_1)\\psi_2(\\boldsymbol{r}_2)\\psi_3(\\boldsymbol{r}_3)...=\\prod_i \\psi_i(\\boldsymbol{r}_i)$$\n",
    "\n",
    "However this does not have the correct symmetry requirements which means if you swap electrons the sign of the wavefunction inverts. This requirement means that the Fermions (electrons) cannot occupy the same quantum states and do not collapse towards the nucleus. We can construct something called a slater determinant which does have the correct symmetry properties.\n",
    "\n",
    "$$\\Psi(\\mathbf{r}_1, \\mathbf{r}_2, \\ldots, \\mathbf{r}_N) =\n",
    "\\frac{1}{\\sqrt{N!}}\n",
    "\\left|\n",
    "   \\begin{matrix} \\psi_1(\\mathbf{r}_1) & \\psi_2(\\mathbf{r}_1) & \\cdots & \\psi_N(\\mathbf{r}_1) \\\\\n",
    "                      \\psi_1(\\mathbf{r}_2) & \\psi_2(\\mathbf{r}_2) & \\cdots & \\psi_N(\\mathbf{r}_2) \\\\\n",
    "                      \\vdots & \\vdots & \\ddots & \\vdots \\\\\n",
    "                      \\psi_1(\\mathbf{r}_N) & \\psi_2(\\mathbf{r}_N) & \\cdots & \\psi_N(\\mathbf{r}_N)\n",
    "   \\end{matrix} \\right|\\equiv \\left|\\psi _1,\\psi _2,\\cdots ,\\psi _N\\right.\\rangle$$\n",
    "   \n",
    "$\\left|\\psi _1,\\psi _2,\\cdots ,\\psi _N\\right.\\rangle$ is often written simply as $\\psi_i(\\boldsymbol{r}_i)$\n",
    "This means we can write a set of $i$ equations which can be solved for a set of one-electron wavefunctions.\n",
    "\n",
    "$$\\left[ -\\sum_i \\frac{\\nabla_i^{2}}{2}- \\sum_{A,i}\\frac{Z_{A}}{r_{Ai}}+v_{HF}(i)\\right]\\psi_i(\\boldsymbol{r}_i)=\\epsilon_{ij}\\psi_i(\\boldsymbol{r}_i)$$\n",
    "\n",
    "What then is $v_{HF}(i)$ we can consider two interactions a coulomb interaction $\\mathscr{J}$ (repulsion between the \"averaged out\" one-electron orbitals) and an exchange interactions $\\mathscr{K}$ which is not classical and is due to electrons of the same spin being indistinguishable which lowers the energy of the system.\n",
    "\n",
    "$v_{HF}(i) = \\sum_j \\left[ 2\\mathscr{J}_j - \\mathscr{K}_j\\right]$\n",
    "Where the sum is over all of the other j electrons. There is a double contribution from the coulomb operator as we are considering closed shell systems where there are two electrons per orbital but the exhange operator is only considered once as this interaction can only be between electrons with like-spins. This means for our HeH+ system it will not contribute as we have\n",
    "\n",
    "$$\\mathscr{J}_j =  \\int \\psi_j(\\boldsymbol{r}_j)^* \\frac{1}{r_{i,j}}\\psi_j(\\boldsymbol{r}_j) dr\n",
    "\\mathscr{K}_j\\psi_i(\\boldsymbol{r}_i) =  \\left[\\int \\psi_j(\\boldsymbol{r}_j)^* \\frac{1}{r_{i,j}}\\psi_i(\\boldsymbol{r}_i)dr\\right]\\psi_j(\\boldsymbol{r}_j)$$\n",
    "\n",
    "You will notice the indices have switched for the exchange operator.\n",
    "\n",
    "The first two terms are often considered as the core terms as they are the kinetic energy and potential energy for an isolated system such as the hydrogen atom and therefore they are refered to as $\\mathscr{H}^{CORE}$\n",
    "\n",
    "$$\\mathscr{H}^{CORE} = -\\sum_i \\frac{\\nabla_i^{2}}{2}- \\sum_{A,i}\\frac{Z_{A}}{r_{Ai}}$$\n",
    "\n",
    "Putting this all together we get the Hartree-Fock equation\n",
    "\n",
    "$$\\left( \\mathscr{H}^{CORE} + \\sum_j \\left[ 2\\mathscr{J}_j - \\mathscr{K}_j\\right]   \\right)\\psi_i(\\boldsymbol{r}_i) = \\sum_j \\epsilon_{ij}\\psi_i(\\boldsymbol{r}_i)$$\n",
    "\n",
    "Or simply\n",
    "\n",
    "$$\\mathscr{f}_i\\psi_i(\\boldsymbol{r}_i) = \\epsilon_{i}\\psi_i(\\boldsymbol{r}_i)$$\n",
    "where $\\mathscr{f}_i$ are the fock operators\n",
    "\n",
    "<br>\n",
    "<br>\n",
    "<br>\n",
    "<br>\n",
    "<br>\n",
    "<br>\n",
    "<br>"
   ]
  },
  {
   "cell_type": "markdown",
   "metadata": {
    "slideshow": {
     "slide_type": "slide"
    }
   },
   "source": [
    "## Orbitals \n",
    "\n",
    "The most successful method to construct these one-electron wavefunctions $\\psi_i$ is to consider them delocalised over the whole molecule. Therefore there will be a set of orbitals, one for each electron, which are spread over the whole molecule. We call this type of treatment molecular orbital theory. The question then is what functions do we use to treat these one-electron delocalised orbitals. We know the solutions exactly for a hydrogen like atom so we can use atomic orbitals $\\phi_i(\\boldsymbol{r}_i)$ centred at each atom $\\boldsymbol{r}_i$ to be the basis for our delocalised molecular orbitals. We need to be able to optimise the amounts of each of these atomic orbitals in each of our one-electron delocalised orbitals so we consider a linear combination of atomic orbitals (LCAO).\n",
    "\n",
    "$$\\psi_i(\\boldsymbol{r}_i) = \\sum_{\\mu} c_{\\mu} \\phi_{\\mu}(\\boldsymbol{r}_i)$$\n",
    "where the constants $c_i$ are going to be optimised to minimise the energy.\n",
    "\n",
    "The method relies on the variational principle which is true for the Hartree-Fock equations which is that any approximation you make (i.e. describing the electrons as a LCAO) will raise the energy above the real energy of the system. The advantage of a variational method is that you can systematically improve the wavefunction and improve your result knowing that you will be able to converge upon a value (which will be above the actual energy).\n",
    "\n",
    "The atomic orbitals are called the slater type orbitals for the 1s orbital this can be written as\n",
    "\n",
    "$$\\phi^{SLA}\\left( \\boldsymbol{r}\\right) = \\left( \\zeta^3/\\pi \\right)^{1/2}e^{-\\zeta \\boldsymbol{r}}$$\n"
   ]
  },
  {
   "cell_type": "code",
   "execution_count": 2,
   "metadata": {
    "slideshow": {
     "slide_type": "subslide"
    }
   },
   "outputs": [
    {
     "data": {
      "image/png": "[encoded data removed]",
      "text/plain": [
       "<Figure size 432x288 with 1 Axes>"
      ]
     },
     "metadata": {
      "needs_background": "light"
     },
     "output_type": "display_data"
    }
   ],
   "source": [
    "x = np.linspace(-5,5,num=1000)\n",
    "r = abs(x)\n",
    "\n",
    "zeta = 1.0\n",
    "\n",
    "Ψ_STO = (zeta**3/np.pi)**(0.5)*np.exp(-zeta*r)\n",
    "\n",
    "fig, ax=plt.subplots(1)\n",
    "ax.plot(x,Ψ_STO)\n",
    "ax.set_title('1s Slater type orbital')\n",
    "ax.set_ylabel(\"Ψ\")\n",
    "ax.set_xlabel('r')\n",
    "plt.show()"
   ]
  },
  {
   "cell_type": "markdown",
   "metadata": {
    "slideshow": {
     "slide_type": "slide"
    }
   },
   "source": [
    "Slater type orbitals (STO) are the exact solutions for the hydrogen atom and provide an accurate basis set for many electron molecules however the calculations of the integrals are expensive as their is no simple exact solution for the integrals. One way around this is to approximate the Slater type orbitals using a sum of contracted Gaussian functions (CGF). There are simple analytical expressions for the integrals between two Gaussians so this can save a lot of computing time. Let's look at this for the case of the 1s orbital\n",
    "\n",
    "$$\\phi^{GF}(\\alpha)=(2\\alpha/\\pi)^{3/4}exp(-\\alpha r^{2})$$\n",
    "\n",
    "$$\\phi^{CGF}\\left( \\boldsymbol{r}\\right) = \\sum_n d_n\\phi^{GF}_n(\\alpha)$$\n",
    "\n",
    "We will make use of three Gaussians to approximate the slater type orbitals.\n",
    "\n",
    "$$\\phi^{CGF}_{STO-3G}\\left( \\boldsymbol{r}\\right) = \\sum^3_n d_n\\phi^{GF}_n(\\alpha)$$"
   ]
  },
  {
   "cell_type": "code",
   "execution_count": 3,
   "metadata": {
    "slideshow": {
     "slide_type": "subslide"
    }
   },
   "outputs": [
    {
     "data": {
      "image/png": "[encoded data removed]",
      "text/plain": [
       "<Figure size 720x360 with 3 Axes>"
      ]
     },
     "metadata": {
      "needs_background": "light"
     },
     "output_type": "display_data"
    }
   ],
   "source": [
    "Coeff = np.array([[1.00000,0.0000000,0.000000],\n",
    "                  [0.678914,0.430129,0.000000],\n",
    "                  [0.444635,0.535328,0.154329]])\n",
    "\n",
    "# Expon is the alpha variable in the equation above\n",
    "Expon = np.array([[0.270950,0.000000,0.000000],\n",
    "                  [0.151623,0.851819,0.000000],\n",
    "                  [0.109818,0.405771,2.227660]]) \n",
    "\n",
    "Ψ_CGF_STO1G = Coeff[0,0]*(2*Expon[0,0]/np.pi)**(0.75)*np.exp(-Expon[0,0]*r**2)\n",
    "Ψ_CGF_STO2G = Coeff[1,0]*(2*Expon[1,0]/np.pi)**(0.75)*np.exp(-Expon[1,0]*r**2) \\\n",
    "                + Coeff[1,1]*(2*Expon[1,1]/np.pi)**(0.75)*np.exp(-Expon[1,1]*r**2) \\\n",
    "                + Coeff[1,2]*(2*Expon[1,2]/np.pi)**(0.75)*np.exp(-Expon[1,2]*r**2)\n",
    "Ψ_CGF_STO3G = Coeff[2,0]*(2*Expon[2,0]/np.pi)**(0.75)*np.exp(-Expon[2,0]*r**2) \\\n",
    "                + Coeff[2,1]*(2*Expon[2,1]/np.pi)**(0.75)*np.exp(-Expon[2,1]*r**2) \\\n",
    "                + Coeff[2,2]*(2*Expon[2,2]/np.pi)**(0.75)*np.exp(-Expon[2,2]*r**2)\n",
    "    \n",
    "# Plot the three functions\n",
    "fig, (ax1,ax2,ax3) = plt.subplots(1,3, figsize=(10,5),constrained_layout=True)\n",
    "\n",
    "fig.suptitle(\"Approximations to a STO with Contracted Gaussian Functions\")\n",
    "ax1.plot(x,Ψ_STO,label=\"STO\")\n",
    "ax1.plot(x,Ψ_CGF_STO1G,label=\"STO-1G\")\n",
    "ax1.legend()\n",
    "ax2.plot(x,Ψ_STO,label=\"STO\")\n",
    "ax2.plot(x,Ψ_CGF_STO2G,label=\"STO-2G\")\n",
    "ax2.legend()\n",
    "ax3.plot(x,Ψ_STO,label=\"STO\")\n",
    "ax3.plot(x,Ψ_CGF_STO3G,label=\"STO-3G\")\n",
    "ax3.legend()\n",
    "\n",
    "\n",
    "plt.show()"
   ]
  },
  {
   "cell_type": "markdown",
   "metadata": {
    "slideshow": {
     "slide_type": "fragment"
    }
   },
   "source": [
    "As the number of Gaussians is increased the function more closely describes the slater type orbitals. You will also see that nearest the centre $(x=0)$ the approximation is poorest. This region is called the cusp.\n",
    "\n",
    "We will use this very poor basis set for our $\\text{HeH}^+$ molecule for ease of calculation but for accurate calculations at the very least a 6-311G(d,p) basis set will used which would have 6 contracted Gaussian functions to describe hydrogen and helium 1s orbital."
   ]
  },
  {
   "cell_type": "markdown",
   "metadata": {
    "slideshow": {
     "slide_type": "slide"
    }
   },
   "source": [
    "## Roothan Hall equations\n",
    "\n",
    "The Hartree-Fock equations need to be converted into a tabular form (matrix form) using the basis set of atomic orbitals to allow for a solution to be determined using the computer. We insert our basis set of orbitals $\\sum_i c_i \\phi^{CGF}_i(\\boldsymbol{r}_i)$ (we will drop the superscript and just have the orbitals denoted as $\\phi_i$) We are also going to be building up a table by combining different basis set indices so will use the subscripts $\\nu$ and $\\mu$ to denotes the indices as we build up the table/matrix. We will also replace ($\\boldsymbol{r}_\\nu$) with (1) for ease of reading.\n",
    "\n",
    "$$\\mathscr{f}_i\\psi_i(\\boldsymbol{r}_i) = \\epsilon_{i}\\psi_i(\\boldsymbol{r}_i)$$\n",
    "\n",
    "$$\\mathscr{f}_i\\sum^K_{\\nu =1} c_{\\nu 1} \\phi_{\\nu}(1) = \\epsilon_{i}\\sum^K_{\\nu =1} c_{\\nu i} \\phi_{\\nu}(1)$$\n",
    "\n",
    "We left multiply the other basis set index of our table and integrate.\n",
    "\n",
    "$$\\sum^K_{\\nu =1}c_{\\nu 1} \\int d\\nu_1 \\phi_{\\mu}(1) \\mathscr{f}_i \\phi_{\\nu}(1) = \\epsilon_{i}\\sum^K_{\\nu =1} c_{\\nu i}\\int d\\nu_1 \\phi_{\\mu}(1)\\phi_{\\nu}(1)$$\n",
    "\n",
    "This last term $\\int d\\nu_1 \\phi_{\\mu}(1)\\phi_{\\nu}(1)$ is called the overlap integral written as $S_{\\mu \\nu}$. This term will help to illustrate the population of a table if we want to know how much the 1s orbital on the He interacts with the 1s orbital on the H atom we would calculate the values on the diagonal of the overlap matrix (for our calculation below this is 0.45077041 in the code the variable is called S12). However, the overlap of the basis function with itself is one by definition.\n",
    "\n",
    "$$S_{\\mu \\nu}= \\left[ \\begin{matrix} 1.0 & 0.45077041 \\\\\n",
    " 0.45077041 & 1.0 \n",
    "\\end{matrix}\\right]$$\n",
    "\n",
    "We have another matrix called the Fock matrix $F_{\\mu \\nu}$ which is made up of the core contributions $\\mathscr{H}^{CORE}$ and the effective potential $v_{HF}$ lets see how the matrices are constructed from these.\n",
    "\n",
    "$$\\int d\\nu_1 \\phi_{\\mu}(1)\\mathscr{H}^{CORE}\\phi_{\\nu}(1) = \\int d\\nu_1 \\phi_{\\mu}(1)\\left[ -\\sum_i \\frac{\\nabla_i^{2}}{2}- \\sum_{A,i}\\frac{Z_{A}}{r_{Ai}} \\right]\\phi_{\\nu}(1) =  H^{CORE}_{\\mu \\nu}$$\n",
    "\n",
    "Where $H^{CORE}_{\\mu \\nu}$ is another matrix that has to be calculated containing a kinetic energy and potential energy contribution. These are called one electron integrals (as they are the interactions of a single electron in a molecular orbital). In the code the core contributions are broken up into kinetic terms (T11, T12 and T22, note we do not need T21 as the matrix is symmetrical) and potential terms (V11A, V12A, V22A for atom one and V11B, V12B, V22B for the second atom, note the sum is also over the nuclei for this term)\n",
    "\n",
    "<br>\n",
    "<br>\n",
    "<br>\n",
    "<br>\n",
    "<br>\n",
    "<br>\n",
    "<br>"
   ]
  },
  {
   "cell_type": "markdown",
   "metadata": {
    "slideshow": {
     "slide_type": "subslide"
    }
   },
   "source": [
    "The effective Hartree potential is a bit tricker to calculate.\n",
    "\n",
    "$$\\int d\\nu_1 \\phi_{\\mu}(1)v_{HF}\\phi_{\\nu}(1) = \\sum_{j=1}^{N/2}\\int d\\nu_1 \\phi_{\\mu}(1)\\left[ 2\\mathscr{J}_j - \\mathscr{K}_j \\right]\\phi_{\\nu}(1) =  G^{2e}_{\\mu \\nu \\lambda \\sigma}$$\n",
    "\n",
    "Where N is the total number of electrons and for closed shell molecules we want half of these electrons, due to two electrons residing in each occupied molecular orbital. This integrate is tricky as it involves the impact of exchange which requires that electrons are indistingishable and therefore instead of a matrix we have 3D matrix or a cube of values (often called a tensor in mathematics). We therefore have to introduce two new indices $\\lambda$ and $\\sigma$ to denote these indistinguishable versions of the electrons. Which creates quite a construction.\n",
    "\n",
    "$$G^{2e}_{\\mu \\nu \\lambda \\sigma} = \\sum^{N/2}_{j=1}\\sum^K_{\\lambda=1}\\sum^K_{\\sigma=1}c_{\\lambda j}c_{\\sigma j}\\left[ \\begin{matrix}\n",
    "2\\int d\\nu_1d\\nu_2\\phi_\\mu(1)\\phi_\\nu(1)\\frac{1}{r_{12}}\\phi_\\lambda(2)\\phi_\\sigma(2)\\\\\n",
    "-\\int d\\nu_1\\nu_2 \\phi_\\mu(1)\\phi_\\lambda(1)\\frac{1}{r_{12}}\\phi_{\\nu}(2)\\phi_\\sigma(2)\n",
    "\\end{matrix}\n",
    "\\right]$$\n",
    "\n",
    "Or in short hand\n",
    "\n",
    "$$G^{2e}_{\\mu \\nu \\lambda \\sigma} = \\sum^{N/2}_{j=1}\\sum^K_{\\lambda=1}\\sum^K_{\\sigma=1}c_{\\lambda j}c_{\\sigma j}\\left[2(\\mu\\nu|\\lambda\\sigma)-(\\mu\\lambda|\\nu\\sigma) \\right]$$\n",
    "\n",
    "The code uses the variable names V1111, V2111, V2121, V2211, V2221 and V2222 and then constructs $G^{2e}_{\\mu \\nu \\lambda \\sigma}$ with the variable name G.\n",
    "\n",
    "Another shorthand that will be helpful is to consider the charge density matrix P\n",
    "$$P_{\\mu \\nu}=2\\sum^{N/2}_{i=1}c_{\\mu i}c_{\\nu i}\\; and\\;  P_{\\lambda \\sigma}=2\\sum^{N/2}_{i=1}c_{\\lambda i}c_{\\sigma i}$$\n",
    "\n",
    "The electron density can be determined from the density matrix as\n",
    "\n",
    "$$\\rho(\\boldsymbol{r})=\\sum^K_{\\mu=1}\\sum^K_{\\nu=1}c_{\\mu}(\\boldsymbol{r})c_{\\nu}(\\boldsymbol{r})$$\n",
    "\n",
    "The Fock matrix $F_{\\mu \\nu}$ is then calculated as for closed shell molecules\n",
    "\n",
    "$$F_{\\mu \\nu} = H^{CORE}_{\\mu \\nu} + \\sum^K_{\\lambda=1}\\sum^K_{\\sigma=1}P_{\\lambda \\sigma}\\left[2(\\mu\\nu|\\lambda\\sigma)-(\\mu\\lambda|\\nu\\sigma) \\right] = H^{CORE}_{\\mu \\nu} + G^{2e}_{\\mu \\nu \\lambda \\sigma}$$\n",
    "\n",
    "In the code G is used when calculating this term.\n",
    "\n",
    "Putting this back into the Hartree-Fock equation we have now transformed into five matrices/tables or the Roothaan-Hall equations\n",
    "\n",
    "$$\\boldsymbol{F} \\boldsymbol{C} = \\boldsymbol{S} \\boldsymbol{C} \\boldsymbol{E}$$\n",
    "\n",
    "The coefficient matrix $\\boldsymbol{C}$ is a table with $K\\times K$ entries with coefficients where $K$ are the number of electrons.\n",
    "\n",
    "$$\\boldsymbol{C} = \\left( \\begin{matrix} c_{1,1} & c_{1,2} & ... & c_{1,K} \\\\\n",
    "c_{2,1} & c_{2,2} & ... & c_{2,K} \\\\\n",
    "\\vdots & \\vdots &  & \\vdots \\\\\n",
    "c_{K,1} & c_{K,2} & ... & c_{K,K}\n",
    "\\end{matrix} \\right)$$\n",
    "\n",
    "$\\boldsymbol{E}$ is a diagonal matrix of the energies of the molecular orbitals\n",
    "\n",
    "$$\\boldsymbol{E} = \\left( \\begin{matrix} \\epsilon_1 & 0 & ... & 0 \\\\\n",
    "0 & \\epsilon_2 & ... & 0 \\\\\n",
    "\\vdots & \\vdots &  & \\vdots \\\\\n",
    "0 & 0 & ... & \\epsilon_K\n",
    "\\end{matrix} \\right)$$\n",
    "\n",
    "We are trying to find out the values of $\\boldsymbol{C}$ which minimise the energy however $\\boldsymbol{C}$ is on both sides of the equation so we have to iterative solve the equations until the $\\boldsymbol{C}$ on both sides are equal and the energy is the lowest possible this is called the self consistent field method or SCF for short.\n",
    "\n",
    "Computers are best at solving equations in the form of $\\boldsymbol{FC}=\\boldsymbol{CE}$, however, that overlap integral is a bit of a problem ($\\boldsymbol{F} \\boldsymbol{C} = \\boldsymbol{S} \\boldsymbol{C} \\boldsymbol{E}$) so we have to do some matrix algebra to rearrange the equation into an equivalent equation $\\boldsymbol{F'C'}=\\boldsymbol{C'E}$ (where $\\boldsymbol{F'}=\\boldsymbol{S}^{-1/2}\\boldsymbol{F}\\boldsymbol{S}^{-1/2}$ and $\\boldsymbol{C'}=\\boldsymbol{S}^{-1/2}\\boldsymbol{C}$ (In the code $\\boldsymbol{S}^{-1/2}$ and $\\boldsymbol{S}^{1/2}$ are denoted as $X$ and $X.T$ )\n",
    "\n",
    "<br>\n",
    "<br>\n",
    "<br>\n",
    "<br>\n",
    "<br>\n",
    "<br>\n",
    "<br>"
   ]
  },
  {
   "cell_type": "code",
   "execution_count": 4,
   "metadata": {
    "slideshow": {
     "slide_type": "slide"
    }
   },
   "outputs": [],
   "source": [
    "def S_int(A,B,Rab2):\n",
    "    \"\"\"\n",
    "    Calculates the overlap between two gaussian functions \n",
    "    \n",
    "    \"\"\"\n",
    "    return (np.pi/(A+B))**1.5*np.exp(-A*B*Rab2/(A+B))"
   ]
  },
  {
   "cell_type": "code",
   "execution_count": 5,
   "metadata": {
    "slideshow": {
     "slide_type": "subslide"
    }
   },
   "outputs": [],
   "source": [
    "def T_int(A,B,Rab2):\n",
    "    \"\"\"\n",
    "    Calculates the kinetic energy integrals for un-normalised primitives\n",
    "    \n",
    "    \"\"\"\n",
    "    return A*B/(A+B)*(3.0-2.0*A*B*Rab2/(A+B))*(np.pi/(A+B))**1.5*np.exp(-A*B*Rab2/(A+B))"
   ]
  },
  {
   "cell_type": "code",
   "execution_count": 6,
   "metadata": {
    "slideshow": {
     "slide_type": "subslide"
    }
   },
   "outputs": [],
   "source": [
    "def V_int(A,B,Rab2,Rcp2,Zc):\n",
    "    \"\"\"\n",
    "    Calculates the un-normalised nuclear attraction integrals\n",
    "    \"\"\"\n",
    "    V = 2.0*np.pi/(A+B)*F0((A+B)*Rcp2)*np.exp(-A*B*Rab2/(A+B))\n",
    "    return -V*Zc"
   ]
  },
  {
   "cell_type": "code",
   "execution_count": 7,
   "metadata": {
    "slideshow": {
     "slide_type": "slide"
    }
   },
   "outputs": [],
   "source": [
    "# Mathematical functions\n",
    "\n",
    "def F0(t):\n",
    "    \"\"\"\n",
    "    F function for 1s orbital\n",
    "    \"\"\"\n",
    "    if (t<1e-6):\n",
    "        return 1.0-t/3.0\n",
    "    else:\n",
    "        return 0.5*(np.pi/t)**0.5*sp.erf(t**0.5)\n",
    "    \n",
    "def erf(t):\n",
    "    \"\"\"\n",
    "    Approximation for the error function\n",
    "    \"\"\"\n",
    "    P = 0.3275911\n",
    "    A = [0.254829592,-0.284496736,1.421413741,-1.453152027,1.061405429]\n",
    "    T = 1.0/(1+P*t)\n",
    "    Tn=T\n",
    "    Poly = A[0]*Tn\n",
    "    for i in range(1,5):\n",
    "        Tn=Tn*T\n",
    "        Poly=Poly*A[i]*Tn\n",
    "    return 1.0-Poly*np.exp(-t*t)"
   ]
  },
  {
   "cell_type": "code",
   "execution_count": 8,
   "metadata": {
    "slideshow": {
     "slide_type": "slide"
    }
   },
   "outputs": [],
   "source": [
    "def TwoE(A,B,C,D,Rab2,Rcd2,Rpq2):\n",
    "    \"\"\"\n",
    "    Calculate two electron integrals\n",
    "    A,B,C,D are the exponents alpha, beta, etc.\n",
    "    Rab2 equals squared distance between centre A and centre B\n",
    "    \"\"\"\n",
    "    return 2.0*(np.pi**2.5)/((A+B)*(C+D)*np.sqrt(A+B+C+D))*F0((A+B)*(C+D)*Rpq2/(A+B+C+D))*np.exp(-A*B*Rab2/(A+B)-C*D*Rcd2/(C+D))"
   ]
  },
  {
   "cell_type": "code",
   "execution_count": 9,
   "metadata": {
    "slideshow": {
     "slide_type": "slide"
    }
   },
   "outputs": [],
   "source": [
    "def Intgrl(N,R,Zeta1,Zeta2,Za,Zb):\n",
    "    \"\"\"\n",
    "    Declares the variables and compiles the integrals.\n",
    "    \"\"\"\n",
    "    \n",
    "    global S12,T11,T12,T22,V11A,V12A,V22A,V11B,V12B,V22B,V1111,V2111,V2121,V2211,V2221,V2222\n",
    "    \n",
    "    \n",
    "    S12 = 0.0\n",
    "    T11 = 0.0\n",
    "    T12 = 0.0\n",
    "    T22 = 0.0\n",
    "    V11A = 0.0\n",
    "    V12A = 0.0\n",
    "    V22A = 0.0\n",
    "    V11B = 0.0\n",
    "    V12B = 0.0\n",
    "    V22B = 0.0\n",
    "    V1111 = 0.0\n",
    "    V2111 = 0.0\n",
    "    V2121 = 0.0\n",
    "    V2211 = 0.0\n",
    "    V2221 = 0.0\n",
    "    V2222 = 0.0\n",
    "    \n",
    "    R2 = R*R\n",
    "    \n",
    "    # The coefficients for the contracted Gaussian functions are below\n",
    "    Coeff = np.array([[1.00000,0.0000000,0.000000],\n",
    "                      [0.678914,0.430129,0.000000],\n",
    "                      [0.444635,0.535328,0.154329]])\n",
    "    \n",
    "    Expon = np.array([[0.270950,0.000000,0.000000],\n",
    "                      [0.151623,0.851819,0.000000],\n",
    "                      [0.109818,0.405771,2.227660]])\n",
    "    D1 = np.zeros([3])\n",
    "    A1 = np.zeros([3])\n",
    "    D2 = np.zeros([3])\n",
    "    A2 = np.zeros([3])\n",
    "    \n",
    "    # This loop constructs the contracted Gaussian functions\n",
    "    for i in range(N):\n",
    "        A1[i] = Expon[N-1,i]*(Zeta1**2)\n",
    "        D1[i] = Coeff[N-1,i]*((2.0*A1[i]/np.pi)**0.75)\n",
    "        A2[i] = Expon[N-1,i]*(Zeta2**2)\n",
    "        D2[i] = Coeff[N-1,i]*((2.0*A2[i]/np.pi)**0.75)\n",
    "    \n",
    "    # Calculate one electron integrals \n",
    "    # Centre A is first atom centre B is second atom\n",
    "    # Origin is on second atom\n",
    "    # V12A - off diagonal nuclear attraction to centre A etc.\n",
    "    for i in range(N):\n",
    "        for j in range(N):\n",
    "            # Rap2 - squared distance between centre A and centre P\n",
    "            Rap = A2[j]*R/(A1[i]+A2[j])\n",
    "            Rap2 = Rap**2\n",
    "            Rbp2 = (R-Rap)**2\n",
    "            S12 = S12 + S_int(A1[i],A2[j],R2)*D1[i]*D2[j]\n",
    "            T11 = T11 + T_int(A1[i],A1[j],0.0)*D1[i]*D1[j]\n",
    "            T12 = T12 + T_int(A1[i],A2[j],R2)*D1[i]*D2[j]\n",
    "            T22 = T22 + T_int(A2[i],A2[j],0.0)*D2[i]*D2[j]\n",
    "            V11A = V11A + V_int(A1[i],A1[j],0.0,0.0,Za)*D1[i]*D1[j]\n",
    "            V12A = V12A + V_int(A1[i],A2[j],R2,Rap2,Za)*D1[i]*D2[j]\n",
    "            V22A = V22A + V_int(A2[i],A2[j],0.0,R2,Za)*D2[i]*D2[j]\n",
    "            V11B = V11B + V_int(A1[i],A1[j],0.0,R2,Zb)*D1[i]*D1[j]\n",
    "            V12B = V12B + V_int(A1[i],A2[j],R2,Rbp2,Zb)*D1[i]*D2[j]\n",
    "            V22B = V22B + V_int(A2[i],A2[j],0.0,0.0,Zb)*D2[i]*D2[j]\n",
    "    \n",
    "    # Calculate two electron integrals\n",
    "    \n",
    "    for i in range(N):\n",
    "        for j in range(N):\n",
    "            for k in range(N):\n",
    "                for l in range(N):\n",
    "                    Rap = A2[i]*R/(A2[i]+A1[j])\n",
    "                    Rbp = R - Rap\n",
    "                    Raq = A2[k]*R/(A2[k]+A1[l])\n",
    "                    Rbq = R - Raq\n",
    "                    Rpq = Rap - Raq\n",
    "                    Rap2 = Rap*Rap\n",
    "                    Rbp2 = Rbp*Rbp\n",
    "                    Raq2 = Raq*Raq\n",
    "                    Rbq2 = Rbq*Rbq\n",
    "                    Rpq2 = Rpq*Rpq\n",
    "                    V1111 = V1111 + TwoE(A1[i],A1[j],A1[k],A1[l],0.0,0.0,0.0)*D1[i]*D1[j]*D1[k]*D1[l]\n",
    "                    V2111 = V2111 + TwoE(A2[i],A1[j],A1[k],A1[l],R2,0.0,Rap2)*D2[i]*D1[j]*D1[k]*D1[l]\n",
    "                    V2121 = V2121 + TwoE(A2[i],A1[j],A2[k],A1[l],R2,R2,Rpq2)*D2[i]*D1[j]*D2[k]*D1[l]\n",
    "                    V2211 = V2211 + TwoE(A2[i],A2[j],A1[k],A1[l],0.0,0.0,R2)*D2[i]*D2[j]*D1[k]*D1[l]\n",
    "                    V2221 = V2221 + TwoE(A2[i],A2[j],A2[k],A1[l],0.0,R2,Rbq2)*D2[i]*D2[j]*D2[k]*D1[l]\n",
    "                    V2222 = V2222 + TwoE(A2[i],A2[j],A2[k],A2[l],0.0,0.0,0.0)*D2[i]*D2[j]*D2[k]*D2[l]\n",
    "    return \n",
    "\n",
    "\n",
    "\n",
    "\n",
    "\n"
   ]
  },
  {
   "cell_type": "code",
   "execution_count": 10,
   "metadata": {
    "slideshow": {
     "slide_type": "slide"
    }
   },
   "outputs": [],
   "source": [
    "def Colect(N,R,Zeta1,Zeta2,Za,Zb):\n",
    "    \"\"\"\n",
    "    Takes the basic integrals and assembles the relevant matrices, \n",
    "    that are S,H,X,XT and Two electron integrals\n",
    "    \"\"\"\n",
    "    # Form core hamiltonian\n",
    "    H[0,0] = T11+V11A+V11B\n",
    "    H[0,1] = T12+V12A+V12B\n",
    "    H[1,0] = H[0,1]\n",
    "    H[1,1] = T22+V22A+V22B\n",
    "\n",
    "    # Form overlap matrix\n",
    "    S[0,0] = 1.0\n",
    "    S[0,1] = S12\n",
    "    S[1,0] = S12\n",
    "    S[1,1] = 1.0\n",
    "    \n",
    "    # This is S^-1/2\n",
    "    X[0,0] = 1.0/np.sqrt(2.0*(1.0+S12))\n",
    "    X[1,0] = X[0,0]\n",
    "    X[0,1] = 1.0/np.sqrt(2.0*(1.0-S12))\n",
    "    X[1,1] = -X[0,1]\n",
    "    \n",
    "    # This is the coulomb and exchange term (aa|bb) and (ab|ba)\n",
    "    TT[0,0,0,0] = V1111\n",
    "    TT[1,0,0,0] = V2111\n",
    "    TT[0,1,0,0] = V2111\n",
    "    TT[0,0,1,0] = V2111\n",
    "    TT[0,0,0,1] = V2111\n",
    "    TT[1,0,1,0] = V2121\n",
    "    TT[0,1,1,0] = V2121\n",
    "    TT[1,0,0,1] = V2121\n",
    "    TT[0,1,0,1] = V2121\n",
    "    TT[1,1,0,0] = V2211\n",
    "    TT[0,0,1,1] = V2211\n",
    "    TT[1,1,1,0] = V2221\n",
    "    TT[1,1,0,1] = V2221\n",
    "    TT[1,0,1,1] = V2221\n",
    "    TT[0,1,1,1] = V2221\n",
    "    TT[1,1,1,1] = V2222\n",
    "    \n",
    "    \n",
    "    \n",
    "    \n",
    "    "
   ]
  },
  {
   "cell_type": "markdown",
   "metadata": {
    "slideshow": {
     "slide_type": "slide"
    }
   },
   "source": [
    "### Self consistent field calculation\n",
    "A common method to solve these equations is to follow the steps below\n",
    "\n",
    "1. Guess an initial density matrix $\\boldsymbol{P}$  (for this example will use the initial guess $P=0$)\n",
    "2. From $\\boldsymbol{P}$  calculate the Fock matrix\n",
    "3. Calculate $\\boldsymbol{F'}=\\boldsymbol{S}^{-1/2}\\boldsymbol{F}\\boldsymbol{S}^{1/2}$\n",
    "4. Solve the eigenvalue problem using the secular equation $|\\boldsymbol{F'}-\\boldsymbol{E}\\boldsymbol{I}|= 0  $ giving the eigenvalues $\\boldsymbol{E} $ and eigenvectors $\\boldsymbol{C'} $ which can be solved by diagonalising  $ \\boldsymbol{F'} $\n",
    "5. Calculate the molecular orbitals coefficients by reverting $\\boldsymbol{C'}=\\boldsymbol{S}^{-1/2}\\boldsymbol{C}$\n",
    "6. Calculate the new density matrix $\\boldsymbol{P}$ from the matrix $\\boldsymbol{C}$\n",
    "7. Check to see if the energy has converged if not then head back to step 6 and repeat."
   ]
  },
  {
   "cell_type": "markdown",
   "metadata": {
    "slideshow": {
     "slide_type": "subslide"
    }
   },
   "source": [
    "![SCF Procedure CC BY SA 3.0 Edsanville](https://upload.wikimedia.org/wikipedia/commons/6/6d/Hartree-Fock.png)\n",
    "SCF Procedure CC BY SA 3.0 Edsanville"
   ]
  },
  {
   "cell_type": "code",
   "execution_count": 11,
   "metadata": {
    "slideshow": {
     "slide_type": "slide"
    }
   },
   "outputs": [],
   "source": [
    "def SCF(N,R,Zeta1,Zeta2,Za,Zb,G):\n",
    "    \"\"\"\n",
    "    Performs the SCF iterations\n",
    "    \"\"\"\n",
    "    Crit = 1e-11 # Convergence critera\n",
    "    Maxit = 250 # Maximum number of iterations\n",
    "    Iter=0\n",
    "    \n",
    "    ######## STEP 1. Guess an initial density matrix ########\n",
    "    # Use core hamiltonian for initial guess of F, I.E. (P=0)\n",
    "    P = np.zeros([2,2])\n",
    "    \n",
    "    Energy = 0.0\n",
    "    \n",
    "    while (Iter<Maxit):\n",
    "        Iter += 1\n",
    "        \n",
    "        ######## STEP 2. calculate the Fock matrix ########\n",
    "        # Form two electron part of Fock matrix from P\n",
    "        G = np.zeros([2,2]) # This is the two electron contribution in the equations above\n",
    "        for i in range(2):\n",
    "            for j in range(2):\n",
    "                for k in range(2):\n",
    "                    for l in range(2):\n",
    "                        G[i,j]=G[i,j]+P[k,l]*(TT[i,j,k,l]-0.5*TT[i,j,k,l])\n",
    "\n",
    "        # Add core hamiltonian H^CORE to get fock matrix\n",
    "        F = H+G\n",
    "        \n",
    "        # Calculate the electronic energy\n",
    "        Energy = np.sum(0.5*P*(H+F))\n",
    "        \n",
    "       \n",
    "        \n",
    "        ######## STEP 3. Calculate F' (remember S^-1/2 is X and S^1/2 is X.T) ########\n",
    "        G = np.matmul(F,X)\n",
    "        Fprime = np.matmul(X.T,G)\n",
    "        \n",
    "        ######## STEP 4. Solve the eigenvalue problem ########\n",
    "        # Diagonalise transformed Fock matrix\n",
    "        Diag(Fprime,Cprime,E)\n",
    "        \n",
    "        ######## STEP 5. Calculate the molecular orbitals coefficients ########\n",
    "        # Transform eigen vectors to get matrix C\n",
    "        C = np.matmul(X,Cprime)\n",
    "        \n",
    "        ######## STEP 6. Calculate the new density matrix from the old P ########\n",
    "        Oldp = np.array(P)\n",
    "        P= np.zeros([2,2])\n",
    "        \n",
    "        # Form new density matrix\n",
    "        for i in range(2):\n",
    "            for j in range(2):\n",
    "                #Save present density matrix before creating a new one\n",
    "                for k in range(1):\n",
    "                    P[i,j] += 2.0*C[i,k]*C[j,k]\n",
    "\n",
    "        ######## STEP 7. Check to see if the energy has converged ########\n",
    "        Delta = 0.0\n",
    "        # Calculate delta the difference between the old density matrix Old P and the new P\n",
    "        Delta = (P-Oldp)\n",
    "        Delta = np.sqrt(np.sum(Delta**2)/4.0)\n",
    "        \n",
    "        print(f\"{Iter} Electronic energy = {Energy:2.5f}, Δ {Delta:.3e}\")\n",
    "        \n",
    "        #Check for convergence\n",
    "        if (Delta<Crit):\n",
    "            # Add nuclear repulsion to get the total energy\n",
    "            Energytot = Energy+Za*Zb/R\n",
    "            print(f\"\\n Calculation converged with electronic energy: {Energy:2.5f}\")\n",
    "            print(f\"Calculation converged with total energy: {Energytot:2.5f}\")\n",
    "            print(\"Density matrix\\n\", P)\n",
    "            print(\"Mulliken populations\\n\",np.matmul(P,S))\n",
    "            print(\"Coeffients\\n\",C)\n",
    "            \n",
    "            break\n",
    "\n",
    "\n",
    "\n",
    "\n",
    "            \n",
    "            \n",
    "            "
   ]
  },
  {
   "cell_type": "code",
   "execution_count": 12,
   "metadata": {
    "slideshow": {
     "slide_type": "slide"
    }
   },
   "outputs": [],
   "source": [
    "def FormG():\n",
    "    \"\"\"\n",
    "    Calculate the G matrix from the density matrix and two electron integals\n",
    "    \"\"\"\n",
    "    for i in range(2):\n",
    "        for j in range(2):\n",
    "            G[i,j]=0.0\n",
    "            for k in range(2):\n",
    "                for l in range(2):\n",
    "                    G[i,j]=G[i,j]+P[k,l]*(TT[i,j,k,l]-0.5*TT[i,j,k,l])\n",
    "                    \n",
    "def Mult(A,B,C_,IM,M):\n",
    "    \"\"\"\n",
    "    Multiples two square matrices A and B to get C\n",
    "    \"\"\"\n",
    "    for i in range(M):\n",
    "        for j in range(M):\n",
    "            for k in range(M):\n",
    "                C_[i,j] = A[i,j]*B[i,j]\n",
    "                "
   ]
  },
  {
   "cell_type": "code",
   "execution_count": 13,
   "metadata": {
    "slideshow": {
     "slide_type": "slide"
    }
   },
   "outputs": [],
   "source": [
    "                \n",
    "def Diag(Fprime,Cprime,E):\n",
    "    \"\"\"\n",
    "    Diagonalises F to give eigenvectors in C and eigen values in E, theta is the angle describing the solution\n",
    "    \"\"\"\n",
    "    # \n",
    "    import math\n",
    "    # Angle for heteronuclear diatonic\n",
    "    Theta = 0.5*math.atan(2.0*Fprime[0,1]/(Fprime[0,0]-Fprime[1,1]))\n",
    "    #print('Theta', Theta)\n",
    "    \n",
    "    Cprime[0,0] = np.cos(Theta)\n",
    "    Cprime[1,0] = np.sin(Theta)\n",
    "    Cprime[0,1] = np.sin(Theta)\n",
    "    Cprime[1,1] = -np.cos(Theta)\n",
    "    \n",
    "    E[0,0] = Fprime[0,0]*np.cos(Theta)**2+Fprime[1,1]*np.sin(Theta)**2+Fprime[0,1]*np.sin(2.0*Theta)\n",
    "    E[1,1] = Fprime[1,1]*np.cos(Theta)**2+Fprime[0,0]*np.sin(Theta)**2-Fprime[0,1]*np.sin(2.0*Theta)\n",
    "    \n",
    "    if (E[1,1] <= E[0,0]):\n",
    "        Temp = E[1,1]\n",
    "        E[1,1] = E[0,0]\n",
    "        E[0,0] = Temp\n",
    "        Temp = Cprime[0,1]\n",
    "        Cprime[0,1] = Cprime[0,0]\n",
    "        Cprime[0,0] = Temp\n",
    "        Temp = Cprime[1,1]\n",
    "        Cprime[1,1]=Cprime[1,0]\n",
    "        Cprime[1,0]=Temp\n",
    "    return"
   ]
  },
  {
   "cell_type": "code",
   "execution_count": 14,
   "metadata": {
    "slideshow": {
     "slide_type": "slide"
    }
   },
   "outputs": [],
   "source": [
    "def HFCALC(N,R,Zeta1,Zeta2,Za,Zb,G):\n",
    "    \"\"\"\n",
    "    Calculates the integrals constructs the matrices and then runs the SCF calculation\n",
    "    \"\"\"\n",
    "    # Calculate one and two electron integrals\n",
    "    Intgrl(N,R,Zeta1,Zeta2,Za,Zb)\n",
    "    # Put all integals into array\n",
    "    Colect(N,R,Zeta1,Zeta2,Za,Zb)\n",
    "    # Perform the SCF calculation\n",
    "    SCF(N,R,Zeta1,Zeta2,Za,Zb,G)\n",
    "    return"
   ]
  },
  {
   "cell_type": "code",
   "execution_count": 15,
   "metadata": {
    "slideshow": {
     "slide_type": "slide"
    }
   },
   "outputs": [
    {
     "name": "stdout",
     "output_type": "stream",
     "text": [
      "1 Electronic energy = 0.00000, Δ 8.829e-01\n",
      "2 Electronic energy = -4.14186, Δ 4.264e-01\n",
      "3 Electronic energy = -4.21251, Δ 1.698e-01\n",
      "4 Electronic energy = -4.22492, Δ 7.268e-02\n",
      "5 Electronic energy = -4.22706, Δ 3.056e-02\n",
      "6 Electronic energy = -4.22745, Δ 1.297e-02\n",
      "7 Electronic energy = -4.22751, Δ 5.484e-03\n",
      "8 Electronic energy = -4.22753, Δ 2.323e-03\n",
      "9 Electronic energy = -4.22753, Δ 9.832e-04\n",
      "10 Electronic energy = -4.22753, Δ 4.162e-04\n",
      "11 Electronic energy = -4.22753, Δ 1.762e-04\n",
      "12 Electronic energy = -4.22753, Δ 7.460e-05\n",
      "13 Electronic energy = -4.22753, Δ 3.158e-05\n",
      "14 Electronic energy = -4.22753, Δ 1.337e-05\n",
      "15 Electronic energy = -4.22753, Δ 5.660e-06\n",
      "16 Electronic energy = -4.22753, Δ 2.396e-06\n",
      "17 Electronic energy = -4.22753, Δ 1.014e-06\n",
      "18 Electronic energy = -4.22753, Δ 4.295e-07\n",
      "19 Electronic energy = -4.22753, Δ 1.818e-07\n",
      "20 Electronic energy = -4.22753, Δ 7.697e-08\n",
      "21 Electronic energy = -4.22753, Δ 3.258e-08\n",
      "22 Electronic energy = -4.22753, Δ 1.379e-08\n",
      "23 Electronic energy = -4.22753, Δ 5.840e-09\n",
      "24 Electronic energy = -4.22753, Δ 2.472e-09\n",
      "25 Electronic energy = -4.22753, Δ 1.047e-09\n",
      "26 Electronic energy = -4.22753, Δ 4.431e-10\n",
      "27 Electronic energy = -4.22753, Δ 1.876e-10\n",
      "28 Electronic energy = -4.22753, Δ 7.941e-11\n",
      "29 Electronic energy = -4.22753, Δ 3.362e-11\n",
      "30 Electronic energy = -4.22753, Δ 1.423e-11\n",
      "31 Electronic energy = -4.22753, Δ 6.025e-12\n",
      "\n",
      " Calculation converged with electronic energy: -4.22753\n",
      "Calculation converged with total energy: -2.86066\n",
      "Density matrix\n",
      " [[1.28614168 0.54017322]\n",
      " [0.54017322 0.22687011]]\n",
      "Mulliken populations\n",
      " [[1.52963579 1.11992783]\n",
      " [0.64243955 0.47036421]]\n",
      "Coeffients\n",
      " [[ 0.80191698 -0.78226577]\n",
      " [ 0.33680121  1.06844537]]\n",
      "\n",
      "\n",
      "\n",
      "\n",
      "\n",
      "\n",
      "\n",
      "\n",
      "\n",
      "\n",
      "\n"
     ]
    }
   ],
   "source": [
    "\"\"\"\n",
    "Let's set up the variables and perform the calculations\n",
    "\"\"\"\n",
    "global H,S,X,XT,TT,G,C,P,Oldp,F,Fprime,Cprime,E,Zb\n",
    "\n",
    "H = np.zeros([2,2])\n",
    "S = np.zeros([2,2])\n",
    "X = np.zeros([2,2])\n",
    "XT = np.zeros([2,2])\n",
    "TT = np.zeros([2,2,2,2])\n",
    "G = np.zeros([2,2])\n",
    "C = np.zeros([2,2])\n",
    "\n",
    "P = np.zeros([2,2])\n",
    "Oldp = np.zeros([2,2])\n",
    "F = np.zeros([2,2])\n",
    "Fprime = np.zeros([2,2])\n",
    "Cprime = np.zeros([2,2])\n",
    "E = np.zeros([2,2])\n",
    "\n",
    "Energy = 0.0\n",
    "Delta = 0.0\n",
    "\n",
    "N = 3\n",
    "R = 1.4632\n",
    "Zeta1 = 2.0925\n",
    "Zeta2 = 1.24\n",
    "Za = 2.0\n",
    "Zb = 1.0\n",
    "\n",
    "HFCALC(N,R,Zeta1,Zeta2,Za,Zb,G)\n",
    "\n",
    "print('\\n'*10) #Hack to get more whitespace"
   ]
  },
  {
   "cell_type": "code",
   "execution_count": 22,
   "metadata": {
    "slideshow": {
     "slide_type": "slide"
    }
   },
   "outputs": [
    {
     "data": {
      "image/png": "[encoded data removed]",
      "text/plain": [
       "<Figure size 720x432 with 1 Axes>"
      ]
     },
     "metadata": {
      "needs_background": "light"
     },
     "output_type": "display_data"
    }
   ],
   "source": [
    "fig, ax =plt.subplots(1, figsize=(10,6))\n",
    "ax.bar(\n",
    "    [1,2,3,4,5,6],\n",
    "    [-2.8669283534318275,-2.8418364990824458,-2.9098394146425748,-2.9322482557926945,-2.9322713663802804,-2.932878077558255],\n",
    "    tick_label=['STO-3G','STO-3G PYSCF','6-31G(d)','cc-pVTZ','aug-cc-pVTZ','aug-cc-pVQZ'])\n",
    "ax.set_ylim( -2.95,-2.75)\n",
    "ax.set_ylabel(\"Energy (a.u)\")\n",
    "plt.show()"
   ]
  },
  {
   "cell_type": "code",
   "execution_count": 23,
   "metadata": {
    "slideshow": {
     "slide_type": "slide"
    }
   },
   "outputs": [],
   "source": [
    "C = np.matmul(X,Cprime)\n",
    "P = np.array([[ 1.28614168,0.54017322],\n",
    " [ 0.54017322 ,0.22687011]])\n",
    "\n",
    "x = np.linspace(-8,8,num=1000)\n",
    "r1 = abs(x+R/2)\n",
    "r2 = abs(x-R/2)\n",
    "\n",
    "Ψ_CGF_STO3G_He = Coeff[2,0]*(2*Expon[2,0]/np.pi)**(0.75)*np.exp(-Expon[2,0]*r1**2) \\\n",
    "                + Coeff[2,1]*(2*Expon[2,1]/np.pi)**(0.75)*np.exp(-Expon[2,1]*r1**2) \\\n",
    "                + Coeff[2,2]*(2*Expon[2,2]/np.pi)**(0.75)*np.exp(-Expon[2,2]*r1**2)\n",
    "        \n",
    "Ψ_CGF_STO3G_H = Coeff[2,0]*(2*Expon[2,0]/np.pi)**(0.75)*np.exp(-Expon[2,0]*r2**2) \\\n",
    "                + Coeff[2,1]*(2*Expon[2,1]/np.pi)**(0.75)*np.exp(-Expon[2,1]*r2**2) \\\n",
    "                + Coeff[2,2]*(2*Expon[2,2]/np.pi)**(0.75)*np.exp(-Expon[2,2]*r2**2)\n",
    "\n",
    "density = np.zeros(x.shape)\n",
    "        \n",
    "density = density + P[0,0]*Ψ_CGF_STO3G_He*Ψ_CGF_STO3G_He\n",
    "density = density + P[1,1]*Ψ_CGF_STO3G_H*Ψ_CGF_STO3G_H\n",
    "density = density + 2*P[0,1]*Ψ_CGF_STO3G_He*Ψ_CGF_STO3G_H"
   ]
  },
  {
   "cell_type": "code",
   "execution_count": 34,
   "metadata": {
    "slideshow": {
     "slide_type": "slide"
    }
   },
   "outputs": [
    {
     "data": {
      "image/png": "[encoded data removed]",
      "text/plain": [
       "<Figure size 1008x360 with 2 Axes>"
      ]
     },
     "metadata": {
      "needs_background": "light"
     },
     "output_type": "display_data"
    }
   ],
   "source": [
    "fig, (ax1,ax2)= plt.subplots(1,2, figsize=(14,5))\n",
    "ax1.set_title(\"Orbitals STO-3G\")\n",
    "ax1.plot(x,C[0,0]*Ψ_CGF_STO3G_He+C[1,0]*Ψ_CGF_STO3G_H,label=\"Bonding\")\n",
    "ax1.plot(x,C[0,1]*Ψ_CGF_STO3G_He+C[1,1]*Ψ_CGF_STO3G_H,label=\"Anti-bonding\")\n",
    "ax1.legend(loc=4)\n",
    "ax2.set_title(\"Electron density $\\psi^2$\")\n",
    "ax2.plot(x,density)\n",
    "ax1.set_xlabel(\"r (a.u)\")\n",
    "ax2.set_xlabel(\"r (a.u)\")\n",
    "\n",
    "plt.show()"
   ]
  },
  {
   "cell_type": "code",
   "execution_count": 37,
   "metadata": {
    "slideshow": {
     "slide_type": "subslide"
    }
   },
   "outputs": [
    {
     "data": {
      "image/png": "[encoded data removed]",
      "text/plain": [
       "<Figure size 1008x360 with 2 Axes>"
      ]
     },
     "metadata": {
      "needs_background": "light"
     },
     "output_type": "display_data"
    }
   ],
   "source": [
    "LUMO = np.genfromtxt('LUMOHeH+.txt')\n",
    "HOMO = np.genfromtxt('HOMOHeH+.txt')\n",
    "density = np.genfromtxt('densityHeH+.txt')\n",
    "fig, (ax1,ax2)= plt.subplots(1,2, figsize=(14,5))\n",
    "ax1.set_title(\"Orbitals aug-cc-PVQZ\")\n",
    "ax1.plot(-LUMO[750:2250,2]/0.529177*2,LUMO[750:2250,4],label=\"Bonding\")\n",
    "ax1.plot(-HOMO[750:2250,2]/0.529177*2,HOMO[750:2250,4],label=\"Anti-bonding\")\n",
    "ax1.legend(loc=4)\n",
    "ax2.set_title(\"Electron density $\\psi^2$ aug-cc-PVQZ\")\n",
    "ax2.plot(-density[750:2250,2]/0.529177*2,density[750:2250,4])\n",
    "ax1.set_xlabel(\"r (a.u)\")\n",
    "ax2.set_xlabel(\"r (a.u)\")\n",
    "\n",
    "plt.show()"
   ]
  },
  {
   "cell_type": "code",
   "execution_count": null,
   "metadata": {},
   "outputs": [],
   "source": []
  }
 ],
 "metadata": {
  "celltoolbar": "Slideshow",
  "hide_input": false,
  "kernelspec": {
   "display_name": "Python 3",
   "language": "python",
   "name": "python3"
  },
  "language_info": {
   "codemirror_mode": {
    "name": "ipython",
    "version": 3
   },
   "file_extension": ".py",
   "mimetype": "text/x-python",
   "name": "python",
   "nbconvert_exporter": "python",
   "pygments_lexer": "ipython3",
   "version": "3.6.7"
  },
  "varInspector": {
   "cols": {
    "lenName": 16,
    "lenType": 16,
    "lenVar": 40
   },
   "kernels_config": {
    "python": {
     "delete_cmd_postfix": "",
     "delete_cmd_prefix": "del ",
     "library": "var_list.py",
     "varRefreshCmd": "print(var_dic_list())"
    },
    "r": {
     "delete_cmd_postfix": ") ",
     "delete_cmd_prefix": "rm(",
     "library": "var_list.r",
     "varRefreshCmd": "cat(var_dic_list()) "
    }
   },
   "types_to_exclude": [
    "module",
    "function",
    "builtin_function_or_method",
    "instance",
    "_Feature"
   ],
   "window_display": false
  }
 },
 "nbformat": 4,
 "nbformat_minor": 1
}
