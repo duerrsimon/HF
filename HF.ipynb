{
 "cells": [
  {
   "cell_type": "markdown",
   "metadata": {},
   "source": [
    "# HF STO-3G calculation for HeH+\n",
    "\n"
   ]
  },
  {
   "cell_type": "code",
   "execution_count": 16,
   "metadata": {
    "collapsed": false
   },
   "outputs": [],
   "source": [
    "import numpy as np\n",
    "import scipy.special as sp\n",
    "import sympy as sy\n",
    "import matplotlib.pyplot as plt"
   ]
  },
  {
   "cell_type": "markdown",
   "metadata": {},
   "source": [
    "Here is the Fortran code written out http://www.ccl.net/cca/software/SOURCES/FORTRAN/szabo/szabo.f with the output http://www.ccl.net/cca/software/SOURCES/FORTRAN/szabo/out.txt \n",
    "\n",
    "Need to go through the book and fill this in properly. Also need to put in graphs."
   ]
  },
  {
   "cell_type": "markdown",
   "metadata": {},
   "source": [
    "## Integrals\n",
    "\n",
    "We make use of Gaussian orbitals fitted to Slater type orbitals of the form\n",
    "\n",
    "$$g_{1s}(\\alpha)=(2\\alpha/\\pi)^{3/4}exp(-\\alpha r^{2}) $$\n",
    "\n",
    "Where the exponents are "
   ]
  },
  {
   "cell_type": "code",
   "execution_count": 62,
   "metadata": {
    "collapsed": true
   },
   "outputs": [],
   "source": [
    "def S_int(A,B,Rab2):\n",
    "    # Calculates the overlaps for un-normalized primitives\n",
    "    return (np.pi/(A+B))**1.5*np.exp(-A*B*Rab2/(A+B))"
   ]
  },
  {
   "cell_type": "code",
   "execution_count": 63,
   "metadata": {
    "collapsed": true
   },
   "outputs": [],
   "source": [
    "def T_int(A,B,Rab2):\n",
    "    # Calculates the kinetic energy integrals for un-normalised primitives\n",
    "    return A*B/(A+B)*(3.0-2.0*A*B*Rab2/(A+B))*(np.pi/(A+B))**1.5*np.exp(-A*B*Rab2/(A+B))"
   ]
  },
  {
   "cell_type": "code",
   "execution_count": 197,
   "metadata": {
    "collapsed": false
   },
   "outputs": [],
   "source": [
    "def V_int(A,B,Rab2,Rcp2,Zc):\n",
    "    # Calculates the un-normalised nuclear attraction integrals\n",
    "    V = 2.0*np.pi/(A+B)*F0((A+B)*Rcp2)*np.exp(-A*B*Rab2/(A+B))\n",
    "    return -V*Zc\n",
    "\n",
    "def F0(t):\n",
    "    # F function for 1s orbital\n",
    "    if (t<1e-6):\n",
    "        return 1.0-t/3.0\n",
    "    else:\n",
    "        return 0.5*(np.pi/t)**0.5*sp.erf(t**0.5)\n",
    "def erf(t):\n",
    "    P = 0.3275911\n",
    "    A = [0.254829592,-0.284496736,1.421413741,-1.453152027,1.061405429]\n",
    "    T = 1.0/(1+P*t)\n",
    "    TN=T\n",
    "    POLY = A[0]*TN\n",
    "    for i in range(1,5):\n",
    "        TN=TN*T\n",
    "        POLY=POLY*A[i]*TN\n",
    "    return 1.0-POLY*np.exp(-t*t)\n",
    "    \n",
    "    "
   ]
  },
  {
   "cell_type": "code",
   "execution_count": 182,
   "metadata": {
    "collapsed": false
   },
   "outputs": [
    {
     "data": {
      "text/plain": [
       "0.12533141373155002"
      ]
     },
     "execution_count": 182,
     "metadata": {},
     "output_type": "execute_result"
    }
   ],
   "source": [
    "F0(50)"
   ]
  },
  {
   "cell_type": "code",
   "execution_count": null,
   "metadata": {
    "collapsed": true
   },
   "outputs": [],
   "source": [
    "\n",
    "      IMPLICIT DOUBLE PRECISION(A-H,O-Z)\n",
    "      DIMENSION A(5)\n",
    "      DATA P/0.3275911D0/\n",
    "      DATA A/0.254829592D0,-0.284496736D0,1.421413741D0,\n",
    "     $ -1.453152027D0,1.061405429D0/\n",
    "      T=1.0D0/(1.0D0+P*ARG)\n",
    "      TN=T\n",
    "      POLY=A(1)*TN\n",
    "      DO 10 I=2,5\n",
    "      TN=TN*T\n",
    "      POLY=POLY+A(I)*TN\n",
    "   10 CONTINUE\n",
    "      DERFOTHER=1.0D0-POLY*DEXP(-ARG*ARG)\n",
    "      RETURN\n",
    "      END"
   ]
  },
  {
   "cell_type": "code",
   "execution_count": 202,
   "metadata": {
    "collapsed": false
   },
   "outputs": [],
   "source": [
    "def TwoE(A,B,C,D,Rab2,Rcd2,Rpq2):\n",
    "    # Calculate two electron integrals\n",
    "    # A,B,C,D are the exponents alpha, beta, etc.\n",
    "    # Rab2 equals squared distance between centre A and centre B\n",
    "    return 2.0*(np.pi**2.5)/((A+B)*(C+D)*np.sqrt(A+B+C+D))*F0((A+B)*(C+D)*Rpq2/(A+B+C+D))*np.exp(-A*B*Rab2/(A+B)-C*D*Rcd2/(C+D))"
   ]
  },
  {
   "cell_type": "code",
   "execution_count": null,
   "metadata": {
    "collapsed": true
   },
   "outputs": [],
   "source": [
    "C*********************************************************************\n",
    "      FUNCTION TWOE(A,B,C,D,RAB2,RCD2,RPQ2)\n",
    "C\n",
    "C CALCULATES TWO-ELECTRON INTEGRALS FOR UN-NORMALIZED PRIMITIVES\n",
    "C A,B,C,D ARE THE EXPONENTS ALPHA, BETA, ETC.\n",
    "C RAB2 EQUALS SQUARED DISTANCE BETWEEN CENTER A AND CENTER B, ETC.\n",
    "C*********************************************************************\n",
    "\n",
    "      IMPLICIT DOUBLE PRECISION(A-H,O-Z)\n",
    "      DATA PI/3.1415926535898D0/\n",
    "      TWOE=2.0D0*(PI**2.5D0)/((A+B)*(C+D)*DSQRT(A+B+C+D))\n",
    "     $ *F0((A+B)*(C+D)*RPQ2/(A+B+C+D))\n",
    "     $ *DEXP(-A*B*RAB2/(A+B)-C*D*RCD2/(C+D))\n",
    "      RETURN\n",
    "      END"
   ]
  },
  {
   "cell_type": "code",
   "execution_count": 189,
   "metadata": {
    "collapsed": true
   },
   "outputs": [],
   "source": []
  },
  {
   "cell_type": "code",
   "execution_count": 235,
   "metadata": {
    "collapsed": false
   },
   "outputs": [],
   "source": [
    "def Intgrl(IOP,N,R,Zeta1,Zeta2,Za,Zb):\n",
    "    \n",
    "    global S12,T11,T12,T22,V11A,V12A,V22A,V11B,V12B,V22B,V1111,V2111,V2121,V2211,V2221,V2222\n",
    "    \n",
    "    \n",
    "    S12 = 0.0\n",
    "    T11 = 0.0\n",
    "    T12 = 0.0\n",
    "    T12 = 0.0\n",
    "    T22 = 0.0\n",
    "    V11A = 0.0\n",
    "    V12A = 0.0\n",
    "    V22A = 0.0\n",
    "    V11B = 0.0\n",
    "    V12B = 0.0\n",
    "    V22B = 0.0\n",
    "    V1111 = 0.0\n",
    "    V2111 = 0.0\n",
    "    V2121 = 0.0\n",
    "    V2211 = 0.0\n",
    "    V2221 = 0.0\n",
    "    V2222 = 0.0\n",
    "\n",
    "    \n",
    "    R2 = R*R\n",
    "    \n",
    "    Coeff = np.array([[1.00000,0.0000000,0.000000],\n",
    "                      [0.678914,0.430129,0.000000],\n",
    "                      [0.444635,0.535328,0.154329]])\n",
    "    \n",
    "    Expon = np.array([[0.270950,0.000000,0.000000],\n",
    "                      [0.151623,0.851819,0.000000],\n",
    "                      [0.109818,0.405771,2.227660]])\n",
    "    D1 = np.zeros([3])\n",
    "    A1 = np.zeros([3])\n",
    "    D2 = np.zeros([3])\n",
    "    A2 = np.zeros([3])\n",
    "    \n",
    "    for i in range(N):\n",
    "        A1[i] = Expon[N-1,i]*(Zeta1**2)\n",
    "        D1[i] = Coeff[N-1,i]*((2.0*A1[i]/np.pi)**0.75)\n",
    "        A2[i] = Expon[N-1,i]*(Zeta2**2)\n",
    "        D2[i] = Coeff[N-1,i]*((2.0*A2[i]/np.pi)**0.75)\n",
    "    \n",
    "    # Calculate one electron integrals \n",
    "    # Centre A is first atom centre B is second atom\n",
    "    # Origin is on second atom\n",
    "    # V12A - off diagonal nuclear attraction to centre A etc.\n",
    "    for i in range(N):\n",
    "        for j in range(N):\n",
    "            # Rap2 - squared distance between centre A and centre P\n",
    "            Rap = A2[j]*R/(A1[i]+A2[j])\n",
    "            Rap2 = Rap**2\n",
    "            Rbp2 = (R-Rap)**2\n",
    "            S12 = S12 + S_int(A1[i],A2[j],R2)*D1[i]*D2[j]\n",
    "            T11 = T11 + T_int(A1[i],A1[j],0.0)*D1[i]*D1[j]\n",
    "            T12 = T12 + T_int(A1[i],A2[j],R2)*D1[i]*D2[j]\n",
    "            T22 = T22 + T_int(A2[i],A2[j],0.0)*D2[i]*D2[j]\n",
    "            V11A = V11A + V_int(A1[i],A1[j],0.0,0.0,Za)*D1[i]*D1[j]\n",
    "            V12A = V12A + V_int(A1[i],A2[j],R2,Rap2,Za)*D1[i]*D2[j]\n",
    "            V22A = V22A + V_int(A2[i],A2[j],0.0,R2,Za)*D2[i]*D2[j]\n",
    "            V11B = V11B + V_int(A1[i],A1[j],0.0,R2,Zb)*D1[i]*D1[j]\n",
    "            V12B = V12B + V_int(A1[i],A2[j],R2,Rbp2,Zb)*D1[i]*D2[j]\n",
    "            V22B = V22B + V_int(A2[i],A2[j],0.0,0.0,Zb)*D2[i]*D2[j]\n",
    "    \n",
    "    # Calculate two electron integrals\n",
    "    \n",
    "    for i in range(N):\n",
    "        for j in range(N):\n",
    "            for k in range(N):\n",
    "                for l in range(N):\n",
    "                    Rap = A2[i]*R/(A2[i]+A1[j])\n",
    "                    Rbp = R - Rap\n",
    "                    Raq = A2[k]*R/(A2[k]+A1[l])\n",
    "                    Rbq = R - Raq\n",
    "                    Rpq = Rap - Raq\n",
    "                    Rap2 = Rap*Rap\n",
    "                    Rbp2 = Rbp*Rbp\n",
    "                    Raq2 = Raq*Raq\n",
    "                    Rbq2 = Rbq*Rbq\n",
    "                    Rpq2 = Rpq*Rpq\n",
    "                    # Check this as Rbp2 is not used but calculated\n",
    "                    V1111 = V1111 + TwoE(A1[i],A1[j],A1[k],A1[l],0.0,0.0,0.0)*D1[i]*D1[j]*D1[k]*D1[l]\n",
    "                    V2111 = V2111 + TwoE(A2[i],A1[j],A1[k],A1[l],R2,0.0,Rap2)*D2[i]*D1[j]*D1[k]*D1[l]\n",
    "                    V2121 = V2121 + TwoE(A2[i],A1[j],A2[k],A1[l],R2,R2,Rpq2)*D2[i]*D1[j]*D2[k]*D1[l]\n",
    "                    V2211 = V2211 + TwoE(A2[i],A2[j],A1[k],A1[l],0.0,0.0,R2)*D2[i]*D2[j]*D1[k]*D1[l]\n",
    "                    V2221 = V2221 + TwoE(A2[i],A2[j],A2[k],A1[l],0.0,R2,Rbq2)*D2[i]*D2[j]*D2[k]*D1[l]\n",
    "                    V2222 = V2222 + TwoE(A2[i],A2[j],A2[k],A2[l],0.0,0.0,0.0)*D2[i]*D2[j]*D2[k]*D2[l]\n",
    "    return "
   ]
  },
  {
   "cell_type": "code",
   "execution_count": 227,
   "metadata": {
    "collapsed": false
   },
   "outputs": [
    {
     "data": {
      "text/plain": [
       "array([[ 0.58706428,  0.58706428],\n",
       "       [ 0.95413107, -0.95413107]])"
      ]
     },
     "execution_count": 227,
     "metadata": {},
     "output_type": "execute_result"
    }
   ],
   "source": [
    "X.T"
   ]
  },
  {
   "cell_type": "code",
   "execution_count": 445,
   "metadata": {
    "collapsed": false
   },
   "outputs": [],
   "source": [
    "def Colect(IOP,N,R,Zeta1,Zeta2,Za,Zb):\n",
    "    # Takes the basic integrals and assembles the relevant matrices, that are S,H,X,XT and Two electron integrals\n",
    "    \n",
    "    # Form core hamiltonian\n",
    "    H[0,0] = T11+V11A+V11B\n",
    "    H[0,1] = T12+V12A+V12B\n",
    "    H[1,0] = H[0,1]\n",
    "    H[1,1] = T22+V22A+V22B\n",
    "\n",
    "    # Form overlap matrix\n",
    "    S[0,0] = 1.0\n",
    "    S[0,1] = S12\n",
    "    S[1,0] = S12\n",
    "    S[1,1] = 1.0\n",
    "    \n",
    "    X[0,0] = 1.0/np.sqrt(2.0*(1.0+S12))\n",
    "    X[1,0] = X[0,0]\n",
    "    X[0,1] = 1.0/np.sqrt(2.0*(1.0-S12))\n",
    "    X[1,1] = -X[0,1]\n",
    "    \n",
    "    \n",
    "    \n",
    "    TT[0,0,0,0] = V1111\n",
    "    TT[1,0,0,0] = V2111\n",
    "    TT[0,1,0,0] = V2111\n",
    "    TT[0,0,1,0] = V2111\n",
    "    TT[0,0,0,1] = V2111\n",
    "    TT[1,0,1,0] = V2121\n",
    "    TT[0,1,1,0] = V2121\n",
    "    TT[1,0,0,1] = V2121\n",
    "    TT[0,1,0,1] = V2121\n",
    "    TT[1,1,0,0] = V2211\n",
    "    TT[0,0,1,1] = V2211\n",
    "    TT[1,1,1,0] = V2221\n",
    "    TT[1,1,0,1] = V2221\n",
    "    TT[1,0,1,1] = V2221\n",
    "    TT[0,1,1,1] = V2221\n",
    "    TT[1,1,1,1] = V2222\n",
    "    \n",
    "    \n",
    "    "
   ]
  },
  {
   "cell_type": "code",
   "execution_count": 446,
   "metadata": {
    "collapsed": false
   },
   "outputs": [
    {
     "data": {
      "text/plain": [
       "array([[[[ 0.        ,  0.        ],\n",
       "         [ 0.        ,  0.        ]],\n",
       "\n",
       "        [[ 0.        ,  0.        ],\n",
       "         [ 0.        ,  0.        ]]],\n",
       "\n",
       "\n",
       "       [[[ 0.        ,  0.        ],\n",
       "         [ 1.30715161,  0.        ]],\n",
       "\n",
       "        [[ 0.        ,  0.        ],\n",
       "         [ 0.        ,  0.        ]]]])"
      ]
     },
     "execution_count": 446,
     "metadata": {},
     "output_type": "execute_result"
    }
   ],
   "source": [
    "\n",
    "TT"
   ]
  },
  {
   "cell_type": "code",
   "execution_count": 490,
   "metadata": {
    "collapsed": false
   },
   "outputs": [],
   "source": [
    "def SCF(IOP,N,R,Zeta1,Zeta2,Za,Zb,G):\n",
    "    # Performs the SCF iterations\n",
    "    Crit = 1e-4 # Convergence critera\n",
    "    Maxit = 25 # Maximum number of iterations\n",
    "    Iter=0\n",
    "    # Use core hamiltonian for initial guess of F, I.E. (P=0)\n",
    "    P = np.zeros([2,2])\n",
    "    Energy = 0.0  \n",
    "    while (Iter<Maxit):\n",
    "        Iter += 1\n",
    "        print Iter\n",
    "        #Form two electron part of Fock matrix from P\n",
    "        G = np.zeros([2,2])\n",
    "        for i in range(2):\n",
    "            for j in range(2):\n",
    "                for k in range(2):\n",
    "                    for l in range(2):\n",
    "                        G[i,j]=G[i,j]+P[k,l]*(TT[i,j,k,l]-0.5*TT[i,j,k,l])\n",
    "        print \"P\",P\n",
    "        print 'G',G\n",
    "        # Add core hamiltonian to get fock matrix\n",
    "        for i in range(2):\n",
    "            for j in range(2):\n",
    "                F[i,j]=H[i,j]+G[i,j]\n",
    "        \n",
    "        print 'F',F\n",
    "        \n",
    "        # Calculate electronic energy\n",
    "        #for i in range(2):\n",
    "        #    for j in range(2):\n",
    "        #        Energy += 0.5*P[i,j]*(H[i,j]+F[i,j])\n",
    "        Energy = np.sum(0.5*P*(H+F))        \n",
    "        \n",
    "        print 'Electronic energy = ',Energy\n",
    "        \n",
    "        # Transform Fock matrix using G for temporary storage\n",
    "        #Mult(F,X,G,2,2)\n",
    "        #Mult(X.T,G,Fprime,2,2)\n",
    "        \n",
    "        G = np.matmul(F,X)\n",
    "        Fprime = np.matmul(X.T,G)\n",
    "        \n",
    "        \n",
    "        \n",
    "        #Diagonalise transformed Fock matrix\n",
    "        Diag(Fprime,Cprime,E)\n",
    "        \n",
    "        \n",
    "        #Transform eigen vectors to get matrix C\n",
    "        C = np.matmul(X,Cprime)\n",
    "        \n",
    "        Oldp = np.array(P)\n",
    "        print \"Oldp\",Oldp\n",
    "        P= np.zeros([2,2])\n",
    "        \n",
    "        #Form new density matrix\n",
    "        for i in range(2):\n",
    "            for j in range(2):\n",
    "                #Save present density matrix before creating a new one\n",
    "                for k in range(1):\n",
    "                    P[i,j] += 2.0*C[i,k]*C[j,k]\n",
    "                    \n",
    "        print \"P\",P\n",
    "        Delta = 0.0\n",
    "        \n",
    "        #Calculate delta\n",
    "        #for i in range(2):\n",
    "        #    for j in range(2):\n",
    "        #        Delta += (P[i,j]-Oldp[i,j])**2\n",
    "        \n",
    "        Delta = (P-Oldp)\n",
    "        \n",
    "        Delta = np.sqrt(np.sum(Delta**2)/4.0)\n",
    "        print \"Delta\",Delta\n",
    "        print \"Require converege = 1E-4\"\n",
    "        \n",
    "        \n",
    "        #Check for convergence\n",
    "        if (Delta<Crit):\n",
    "            # Add nuclear repulsion to get total energy\n",
    "            Energytot = Energy+Za*Zb/R\n",
    "            print \"Calculation converged with electronic energy:\",Energy\n",
    "            print \"Calculation converged with total energy:\",Energytot\n",
    "            \n",
    "            print \"Mulliken populations\"\n",
    "            print np.matmul()\n",
    "            \n",
    "            break"
   ]
  },
  {
   "cell_type": "code",
   "execution_count": null,
   "metadata": {
    "collapsed": true
   },
   "outputs": [],
   "source": []
  },
  {
   "cell_type": "code",
   "execution_count": 491,
   "metadata": {
    "collapsed": false
   },
   "outputs": [],
   "source": [
    "P = np.array([[ 1.72662709,0.25985101],[ 0.25985100,0.03910662]])\n",
    "\n",
    "G[0,0]=G[0,0]+P[1,0]*(TT[1,0,1,0]-0.5*TT[1,0,1,0])"
   ]
  },
  {
   "cell_type": "code",
   "execution_count": 492,
   "metadata": {
    "collapsed": false
   },
   "outputs": [
    {
     "data": {
      "text/plain": [
       "array([[ 0.02303152,  0.        ],\n",
       "       [ 0.        ,  0.        ]])"
      ]
     },
     "execution_count": 492,
     "metadata": {},
     "output_type": "execute_result"
    }
   ],
   "source": [
    "G"
   ]
  },
  {
   "cell_type": "code",
   "execution_count": null,
   "metadata": {
    "collapsed": true
   },
   "outputs": [],
   "source": []
  },
  {
   "cell_type": "code",
   "execution_count": 493,
   "metadata": {
    "collapsed": false
   },
   "outputs": [],
   "source": [
    "def FormG():\n",
    "    # Calculate the G matrix from the density matrix and two electron integals\n",
    "    \n",
    "    \n",
    "    for i in range(2):\n",
    "        for j in range(2):\n",
    "            G[i,j]=0.0\n",
    "            for k in range(2):\n",
    "                for l in range(2):\n",
    "                    G[i,j]=G[i,j]+P[k,l]*(TT[i,j,k,l]-0.5*TT[i,j,k,l])\n",
    "                    \n",
    "def Mult(A,B,C_,IM,M):\n",
    "    #Multiples two square matrices A and B to get C\n",
    "    for i in range(M):\n",
    "        for j in range(M):\n",
    "            for k in range(M):\n",
    "                C_[i,j] = A[i,j]*B[i,j]\n",
    "                \n",
    "def Diag(Fprime,Cprime,E):\n",
    "    # Diagonalises F to give eigenvectors in C and eigen values in E, theta is the angle describing the solution\n",
    "    import math\n",
    "    # Angle for heteronuclear diatonic\n",
    "    Theta = 0.5*math.atan(2.0*Fprime[0,1]/(Fprime[0,0]-Fprime[1,1]))\n",
    "    print 'Theta', Theta\n",
    "    \n",
    "    Cprime[0,0] = np.cos(Theta)\n",
    "    Cprime[1,0] = np.sin(Theta)\n",
    "    Cprime[0,1] = np.sin(Theta)\n",
    "    Cprime[1,1] = -np.cos(Theta)\n",
    "    \n",
    "    E[0,0] = Fprime[0,0]*np.cos(Theta)**2+Fprime[1,1]*np.sin(Theta)**2+Fprime[0,1]*np.sin(2.0*Theta)\n",
    "    E[1,1] = Fprime[1,1]*np.cos(Theta)**2+Fprime[0,0]*np.sin(Theta)**2-Fprime[0,1]*np.sin(2.0*Theta)\n",
    "    \n",
    "    if (E[1,1] <= E[0,0]):\n",
    "        Temp = E[1,1]\n",
    "        E[1,1] = E[0,0]\n",
    "        E[0,0] = Temp\n",
    "        Temp = Cprime[0,1]\n",
    "        Cprime[0,1] = Cprime[0,0]\n",
    "        Cprime[0,0] = Temp\n",
    "        Temp = Cprime[1,1]\n",
    "        Cprime[1,1]=Cprime[1,0]\n",
    "        Cprime[1,0]=Temp\n",
    "    return"
   ]
  },
  {
   "cell_type": "code",
   "execution_count": 494,
   "metadata": {
    "collapsed": true
   },
   "outputs": [],
   "source": [
    "def HFCALC(IOP,N,R,Zeta1,Zeta2,Za,Zb,G):\n",
    "    # Calculate one and two electron integrals\n",
    "    Intgrl(IOP,N,R,Zeta1,Zeta2,Za,Zb)\n",
    "    # Put all integals into array\n",
    "    Colect(IOP,N,R,Zeta1,Zeta2,Za,Zb)\n",
    "    # Perform the SCF calculation\n",
    "    SCF(IOP,N,R,Zeta1,Zeta2,Za,Zb,G)\n",
    "    return"
   ]
  },
  {
   "cell_type": "code",
   "execution_count": 495,
   "metadata": {
    "collapsed": false
   },
   "outputs": [
    {
     "name": "stdout",
     "output_type": "stream",
     "text": [
      "1\n",
      "P [[ 0.  0.]\n",
      " [ 0.  0.]]\n",
      "G [[ 0.  0.]\n",
      " [ 0.  0.]]\n",
      "F [[-2.65274472 -1.34720517]\n",
      " [-1.34720517 -1.7318284 ]]\n",
      "Electronic energy =  0.0\n",
      "Theta 0.426436985386\n",
      "Oldp [[ 0.  0.]\n",
      " [ 0.  0.]]\n",
      "P [[ 1.72662709  0.25985101]\n",
      " [ 0.25985101  0.03910662]]\n",
      "Delta 0.882866853014\n",
      "Require converege = 1E-4\n",
      "2\n",
      "P [[ 1.72662709  0.25985101]\n",
      " [ 0.25985101  0.03910662]]\n",
      "G [[ 1.25395267  0.42966882]\n",
      " [ 0.42966882  0.61907821]]\n",
      "F [[-1.39879206 -0.91753635]\n",
      " [-0.91753635 -1.11275019]]\n",
      "Electronic energy =  -4.14186287613\n",
      "Theta 0.174207363201\n",
      "Oldp [[ 1.72662709  0.25985101]\n",
      " [ 0.25985101  0.03910662]]\n",
      "P [[ 1.10575051  0.61388178]\n",
      " [ 0.61388178  0.34081001]]\n",
      "Delta 0.42637666285\n",
      "Require converege = 1E-4\n",
      "3\n",
      "P [[ 1.10575051  0.61388178]\n",
      " [ 0.61388178  0.34081001]]\n",
      "G [[ 1.09434447  0.40371333]\n",
      " [ 0.40371333  0.65828055]]\n",
      "F [[-1.55840025 -0.94349184]\n",
      " [-0.94349184 -1.07354785]]\n",
      "Electronic energy =  -4.21250515815\n",
      "Theta 0.276692536686\n",
      "Oldp [[ 1.10575051  0.61388178]\n",
      " [ 0.61388178  0.34081001]]\n",
      "P [[ 1.36250446  0.501979  ]\n",
      " [ 0.501979    0.18494098]]\n",
      "Delta 0.169751444038\n",
      "Require converege = 1E-4\n",
      "4\n",
      "P [[ 1.36250446  0.501979  ]\n",
      " [ 0.501979    0.18494098]]\n",
      "G [[ 1.16601467  0.41571368]\n",
      " [ 0.41571368  0.64077951]]\n",
      "F [[-1.48673005 -0.93149149]\n",
      " [-0.93149149 -1.09104889]]\n",
      "Electronic energy =  -4.22491713481\n",
      "Theta 0.233363546739\n",
      "Oldp [[ 1.36250446  0.501979  ]\n",
      " [ 0.501979    0.18494098]]\n",
      "P [[ 1.25387965  0.55506024]\n",
      " [ 0.55506024  0.24571088]]\n",
      "Delta 0.0726766265559\n",
      "Require converege = 1E-4\n",
      "5\n",
      "P [[ 1.25387965  0.55506024]\n",
      " [ 0.55506024  0.24571088]]\n",
      "G [[ 1.13663572  0.41084741]\n",
      " [ 0.41084741  0.64796918]]\n",
      "F [[-1.516109   -0.93635776]\n",
      " [-0.93635776 -1.08385921]]\n",
      "Electronic energy =  -4.22705796346\n",
      "Theta 0.251664608429\n",
      "Oldp [[ 1.25387965  0.55506024]\n",
      " [ 0.55506024  0.24571088]]\n",
      "P [[ 1.29980618  0.53364452]\n",
      " [ 0.53364452  0.21909149]]\n",
      "Delta 0.0305577508572\n",
      "Require converege = 1E-4\n",
      "6\n",
      "P [[ 1.29980618  0.53364452]\n",
      " [ 0.53364452  0.21909149]]\n",
      "G [[ 1.14922582  0.41294258]\n",
      " [ 0.41294258  0.64489101]]\n",
      "F [[-1.50351891 -0.93426259]\n",
      " [-0.93426259 -1.08693739]]\n",
      "Electronic energy =  -4.22744516532\n",
      "Theta 0.243913449842\n",
      "Oldp [[ 1.29980618  0.53364452]\n",
      " [ 0.53364452  0.21909149]]\n",
      "P [[ 1.2803584   0.54289634]\n",
      " [ 0.54289634  0.23019838]]\n",
      "Delta 0.0129689170661\n",
      "Require converege = 1E-4\n",
      "7\n",
      "P [[ 1.2803584   0.54289634]\n",
      " [ 0.54289634  0.23019838]]\n",
      "G [[ 1.14392459  0.4120621 ]\n",
      " [ 0.4120621   0.64618762]]\n",
      "F [[-1.50882014 -0.93514307]\n",
      " [-0.93514307 -1.08564077]]\n",
      "Electronic energy =  -4.22751420209\n",
      "Theta 0.24719395916\n",
      "Oldp [[ 1.2803584   0.54289634]\n",
      " [ 0.54289634  0.23019838]]\n",
      "P [[ 1.28859027  0.5390131 ]\n",
      " [ 0.5390131   0.22546742]]\n",
      "Delta 0.00548417493289\n",
      "Require converege = 1E-4\n",
      "8\n",
      "P [[ 1.28859027  0.5390131 ]\n",
      " [ 0.5390131   0.22546742]]\n",
      "G [[ 1.14617389  0.412436  ]\n",
      " [ 0.412436    0.64563756]]\n",
      "F [[-1.50657083 -0.93476917]\n",
      " [-0.93476917 -1.08619083]]\n",
      "Electronic energy =  -4.22752659937\n",
      "Theta 0.24580502161\n",
      "Oldp [[ 1.28859027  0.5390131 ]\n",
      " [ 0.5390131   0.22546742]]\n",
      "P [[ 1.28510513  0.54066304]\n",
      " [ 0.54066304  0.22746507]]\n",
      "Delta 0.00232279034282\n",
      "Require converege = 1E-4\n",
      "9\n",
      "P [[ 1.28510513  0.54066304]\n",
      " [ 0.54066304  0.22746507]]\n",
      "G [[ 1.14522257  0.41227792]\n",
      " [ 0.41227792  0.64587022]]\n",
      "F [[-1.50752216 -0.93492725]\n",
      " [-0.93492725 -1.08595817]]\n",
      "Electronic energy =  -4.22752881931\n",
      "Theta 0.246392997535\n",
      "Oldp [[ 1.28510513  0.54066304]\n",
      " [ 0.54066304  0.22746507]]\n",
      "P [[ 1.28658051  0.53996562]\n",
      " [ 0.53996562  0.22661844]]\n",
      "Delta 0.000983151834497\n",
      "Require converege = 1E-4\n",
      "10\n",
      "P [[ 1.28658051  0.53996562]\n",
      " [ 0.53996562  0.22661844]]\n",
      "G [[ 1.14562547  0.41234488]\n",
      " [ 0.41234488  0.64577169]]\n",
      "F [[-1.50711925 -0.93486029]\n",
      " [-0.93486029 -1.08605671]]\n",
      "Electronic energy =  -4.22752921732\n",
      "Theta 0.246144074668\n",
      "Oldp [[ 1.28658051  0.53996562]\n",
      " [ 0.53996562  0.22661844]]\n",
      "P [[ 1.28595591  0.54026106]\n",
      " [ 0.54026106  0.22697669]]\n",
      "Delta 0.000416249714185\n",
      "Require converege = 1E-4\n",
      "11\n",
      "P [[ 1.28595591  0.54026106]\n",
      " [ 0.54026106  0.22697669]]\n",
      "G [[ 1.14545493  0.41231654]\n",
      " [ 0.41231654  0.6458134 ]]\n",
      "F [[-1.50728979 -0.93488863]\n",
      " [-0.93488863 -1.086015  ]]\n",
      "Electronic energy =  -4.22752928864\n",
      "Theta 0.24624945467\n",
      "Oldp [[ 1.28595591  0.54026106]\n",
      " [ 0.54026106  0.22697669]]\n",
      "P [[ 1.28622033  0.54013602]\n",
      " [ 0.54013602  0.226825  ]]\n",
      "Delta 0.000176211995738\n",
      "Require converege = 1E-4\n",
      "12\n",
      "P [[ 1.28622033  0.54013602]\n",
      " [ 0.54013602  0.226825  ]]\n",
      "G [[ 1.14552713  0.41232854]\n",
      " [ 0.41232854  0.64579574]]\n",
      "F [[-1.50721759 -0.93487663]\n",
      " [-0.93487663 -1.08603266]]\n",
      "Electronic energy =  -4.22752930143\n",
      "Theta 0.24620484216\n",
      "Oldp [[ 1.28622033  0.54013602]\n",
      " [ 0.54013602  0.226825  ]]\n",
      "P [[ 1.28610839  0.54018896]\n",
      " [ 0.54018896  0.22688921]]\n",
      "Delta 7.46000228255e-05\n",
      "Require converege = 1E-4\n",
      "Calculation converged with electronic energy: -4.22752930143\n",
      "Calculation converged with total energy: -2.86066216091\n"
     ]
    }
   ],
   "source": [
    "global H,S,X,XT,TT,G,C,P,Oldp,F,Fprime,Cprime,E\n",
    "\n",
    "H = np.zeros([2,2])\n",
    "S = np.zeros([2,2])\n",
    "X = np.zeros([2,2])\n",
    "XT = np.zeros([2,2])\n",
    "TT = np.zeros([2,2,2,2])\n",
    "G = np.zeros([2,2])\n",
    "C = np.zeros([2,2])\n",
    "\n",
    "P = np.zeros([2,2])\n",
    "Oldp = np.zeros([2,2])\n",
    "F = np.zeros([2,2])\n",
    "Fprime = np.zeros([2,2])\n",
    "Cprime = np.zeros([2,2])\n",
    "E = np.zeros([2,2])\n",
    "\n",
    "Energy = 0.0\n",
    "Delta = 0.0\n",
    "\n",
    "IOP = 2\n",
    "N = 3\n",
    "R = 1.4632\n",
    "Zeta1 = 2.0925\n",
    "Zeta2 = 1.24\n",
    "Za = 2.0\n",
    "Zb = 1.0\n",
    "HFCALC(IOP,N,R,Zeta1,Zeta2,Za,Zb,G)\n",
    "\n"
   ]
  }
 ],
 "metadata": {
  "kernelspec": {
   "display_name": "Python 2",
   "language": "python",
   "name": "python2"
  },
  "language_info": {
   "codemirror_mode": {
    "name": "ipython",
    "version": 2
   },
   "file_extension": ".py",
   "mimetype": "text/x-python",
   "name": "python",
   "nbconvert_exporter": "python",
   "pygments_lexer": "ipython2",
   "version": "2.7.11"
  }
 },
 "nbformat": 4,
 "nbformat_minor": 0
}
